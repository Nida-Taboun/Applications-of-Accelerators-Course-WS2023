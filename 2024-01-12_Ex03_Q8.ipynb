{
 "cells": [
  {
   "cell_type": "markdown",
   "id": "8571ce19-26f5-40b8-a7b4-182193a52dbb",
   "metadata": {},
   "source": [
    "Applications of Accelerators Course\n",
    "WS 2023\n",
    "Question 8:\n",
    "Write a python function with the name of \"get_rigidity\" to calculate the magnetic rigidity.\n",
    "Hint: please write as less code lines as possible by using advanced language fea-tures like the decorator \"np.vectorize\" and \"class\"."
   ]
  },
  {
   "cell_type": "code",
   "execution_count": 6,
   "id": "42ff6bf3-55c0-4784-958f-ecb157c261e6",
   "metadata": {},
   "outputs": [
    {
     "name": "stdout",
     "output_type": "stream",
     "text": [
      "Rigidity\t= 17.70441 Tm\n"
     ]
    }
   ],
   "source": [
    "import numpy as np\n",
    "\n",
    "class MagneticRigidityCalculator:\n",
    "    @np.vectorize\n",
    "    def get_rigidity(p, q):\n",
    "        return p / q\n",
    "\n",
    "# Example:\n",
    "calculator = MagneticRigidityCalculator()\n",
    "rigidity = calculator.get_rigidity(p=7.9422E-17, q=4.486E-18)\n",
    "print(f'Rigidity\\t= {rigidity:.5f} Tm')\n",
    "\n"
   ]
  },
  {
   "cell_type": "code",
   "execution_count": null,
   "id": "627aee1f-bd6a-489f-9e39-3b8f396cef9d",
   "metadata": {},
   "outputs": [],
   "source": []
  }
 ],
 "metadata": {
  "kernelspec": {
   "display_name": "Python 3",
   "language": "python",
   "name": "python3"
  },
  "language_info": {
   "codemirror_mode": {
    "name": "ipython",
    "version": 3
   },
   "file_extension": ".py",
   "mimetype": "text/x-python",
   "name": "python",
   "nbconvert_exporter": "python",
   "pygments_lexer": "ipython3",
   "version": "3.7.8"
  }
 },
 "nbformat": 4,
 "nbformat_minor": 5
}
