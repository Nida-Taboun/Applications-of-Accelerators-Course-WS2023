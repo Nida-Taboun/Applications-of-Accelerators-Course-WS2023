{
 "cells": [
  {
   "cell_type": "markdown",
   "id": "5d742eac-e45f-4db1-b385-da26b616e4bc",
   "metadata": {},
   "source": [
    "ِِApplications of Accelerators Course (WS 2023)\n",
    "Question 9:\n",
    "From the accelerator department, you received some data (see the attached data file: 2016-07-11_ipm_data.txt) from an ionization beam profile monitor (IPM). Read the file and plot it in blue color on a black grid background. The mark the maximum with a red dot! Code and plot (PNG) as usual on GitHUB."
   ]
  },
  {
   "cell_type": "code",
   "execution_count": 4,
   "id": "22fcea98-77e3-4cea-9e1e-0f54f8f977f3",
   "metadata": {},
   "outputs": [],
   "source": [
    "import numpy as np\n",
    "import matplotlib.pyplot as plt\n",
    "\n",
    "# Reload the data\n",
    "#-------------------------------\n",
    "path = '2016-07-11_ipm_data.txt'\n",
    "data = np.genfromtxt(path)\n",
    "#-------------------------------\n",
    "# Find the maximum value\n",
    "#-------------------------------\n",
    "max_value = np.argmax(data)\n",
    "#-------------------------------\n",
    "# Plotting the data\n",
    "#-------------------------------\n",
    "plt.figure(figsize=(10,6)) # figure size\n",
    "plt.plot(data, color='blue') # Plot data in blue\n",
    "plt.scatter(max_value, data[max_value], color='red') # Plot maximum value in red\n",
    "plt.grid(True, color='white') # White color for grid lines  \n",
    "plt.gca().set_facecolor('black') # Black grid background\n",
    "#-------------------------------\n",
    "# Save the plot as png file\n",
    "#-------------------------------\n",
    "plt.savefig('Plot.png')\n"
   ]
  },
  {
   "cell_type": "code",
   "execution_count": null,
   "id": "dc52c19b-f23b-408b-8c04-b8ab36dbc3c6",
   "metadata": {},
   "outputs": [],
   "source": []
  }
 ],
 "metadata": {
  "kernelspec": {
   "display_name": "Python 3",
   "language": "python",
   "name": "python3"
  },
  "language_info": {
   "codemirror_mode": {
    "name": "ipython",
    "version": 3
   },
   "file_extension": ".py",
   "mimetype": "text/x-python",
   "name": "python",
   "nbconvert_exporter": "python",
   "pygments_lexer": "ipython3",
   "version": "3.7.8"
  }
 },
 "nbformat": 4,
 "nbformat_minor": 5
}
